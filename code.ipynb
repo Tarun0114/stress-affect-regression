{
 "cells": [
  {
   "cell_type": "markdown",
   "id": "0df7367b-b670-4578-a80e-4c5751a1e114",
   "metadata": {},
   "source": [
    "# Importing Libariries"
   ]
  },
  {
   "cell_type": "code",
   "execution_count": 1,
   "id": "6f6e488e-fa26-4b2c-b6b1-9a21c83e1c5d",
   "metadata": {},
   "outputs": [],
   "source": [
    "import os\n",
    "import pickle\n",
    "import pandas as pd\n",
    "import numpy as np"
   ]
  },
  {
   "cell_type": "markdown",
   "id": "e3bf6fdb-9688-4490-9d60-3019af980b82",
   "metadata": {},
   "source": [
    "# Processing the data"
   ]
  },
  {
   "cell_type": "code",
   "execution_count": 3,
   "id": "173c2168-2b40-48b7-9f62-b07591a533be",
   "metadata": {},
   "outputs": [],
   "source": [
    "data_path = 'WESAD/WESAD'\n",
    "subjects = [f for f in os.listdir(data_path) if f.startswith('S')]\n",
    "data_frames = []\n",
    "\n",
    "for subject in subjects:\n",
    "    subject_path = os.path.join(data_path, subject, f'{subject}.pkl')\n",
    "    with open(subject_path, 'rb') as file:\n",
    "        data = pickle.load(file, encoding='latin1')\n",
    "\n",
    "    chest_data = data['signal']['chest']\n",
    "    wrist_data = data['signal']['wrist']\n",
    "    stress = data['label']\n",
    "\n",
    "    chest_sensor_dfs = []\n",
    "    for sensor_name, sensor_values in chest_data.items():\n",
    "        sensor_array = np.array(sensor_values)\n",
    "        if sensor_array.ndim == 1:\n",
    "            sensor_array = sensor_array.reshape(-1, 1)\n",
    "        num_axes = sensor_array.shape[1]\n",
    "        col_names = [f'chest_{sensor_name}_{i}' for i in range(num_axes)]\n",
    "        chest_sensor_df = pd.DataFrame(sensor_array, columns=col_names)\n",
    "        chest_sensor_dfs.append(chest_sensor_df)\n",
    "    chest_df = pd.concat(chest_sensor_dfs, axis=1)\n",
    "\n",
    "    wrist_sensor_dfs = []\n",
    "    for sensor_name, sensor_values in wrist_data.items():\n",
    "        sensor_array = np.array(sensor_values)\n",
    "        if sensor_array.ndim == 1:\n",
    "            sensor_array = sensor_array.reshape(-1, 1)\n",
    "        num_axes = sensor_array.shape[1]\n",
    "        col_names = [f'wrist_{sensor_name}_{i}' for i in range(num_axes)]\n",
    "        wrist_sensor_df = pd.DataFrame(sensor_array, columns=col_names)\n",
    "        wrist_sensor_dfs.append(wrist_sensor_df)\n",
    "    wrist_df = pd.concat(wrist_sensor_dfs, axis=1)\n",
    "\n",
    "    subject_df = pd.concat([chest_df, wrist_df], axis=1)\n",
    "    subject_df['stress'] = stress\n",
    "    subject_df['subject'] = subject\n",
    "    subject_df = subject_df.head(10000)\n",
    "    data_frames.append(subject_df)\n",
    "\n",
    "data_df = pd.concat(data_frames, ignore_index=True)\n",
    "data_df.to_csv('data.csv', index=False)"
   ]
  },
  {
   "cell_type": "code",
   "execution_count": null,
   "id": "0161e1cf-1993-47fb-a1bd-384e758ba63b",
   "metadata": {},
   "outputs": [],
   "source": []
  }
 ],
 "metadata": {
  "kernelspec": {
   "display_name": "Python [conda env:base] *",
   "language": "python",
   "name": "conda-base-py"
  },
  "language_info": {
   "codemirror_mode": {
    "name": "ipython",
    "version": 3
   },
   "file_extension": ".py",
   "mimetype": "text/x-python",
   "name": "python",
   "nbconvert_exporter": "python",
   "pygments_lexer": "ipython3",
   "version": "3.11.7"
  }
 },
 "nbformat": 4,
 "nbformat_minor": 5
}
