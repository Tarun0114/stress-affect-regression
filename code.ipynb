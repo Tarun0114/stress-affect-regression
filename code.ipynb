{
 "cells": [
  {
   "cell_type": "markdown",
   "id": "f1c8c9a0",
   "metadata": {},
   "source": [
    "# Importing Libraries"
   ]
  },
  {
   "cell_type": "code",
   "execution_count": 1,
   "id": "31a37f72",
   "metadata": {},
   "outputs": [],
   "source": [
    "import os\n",
    "import pickle\n",
    "import pandas as pd\n",
    "import numpy as np"
   ]
  },
  {
   "cell_type": "markdown",
   "id": "64f7f0b1",
   "metadata": {},
   "source": [
    "# Processing the Data"
   ]
  },
  {
   "cell_type": "code",
   "execution_count": 2,
   "id": "020c925a",
   "metadata": {},
   "outputs": [],
   "source": [
    "data_path = 'WESAD/WESAD'\n",
    "subjects = [f for f in os.listdir(data_path) if f.startswith('S')]\n",
    "data_frames = []\n",
    "\n",
    "for subject in subjects:\n",
    "    subject_path = os.path.join(data_path, subject, f'{subject}.pkl')\n",
    "    with open(subject_path, 'rb') as file:\n",
    "        data = pickle.load(file, encoding='latin1')\n",
    "\n",
    "    chest_data = data['signal']['chest']\n",
    "    wrist_data = data['signal']['wrist']\n",
    "    stress = data['label']\n",
    "\n",
    "    chest_sensor_dfs = []\n",
    "    for sensor_name, sensor_values in chest_data.items():\n",
    "        sensor_array = np.array(sensor_values)\n",
    "        if sensor_array.ndim == 1:\n",
    "            sensor_array = sensor_array.reshape(-1, 1)\n",
    "        num_axes = sensor_array.shape[1]\n",
    "        col_names = [f'chest_{sensor_name}_{i}' for i in range(num_axes)]\n",
    "        chest_sensor_df = pd.DataFrame(sensor_array, columns=col_names)\n",
    "        chest_sensor_dfs.append(chest_sensor_df)\n",
    "    chest_df = pd.concat(chest_sensor_dfs, axis=1)\n",
    "\n",
    "    wrist_sensor_dfs = []\n",
    "    for sensor_name, sensor_values in wrist_data.items():\n",
    "        sensor_array = np.array(sensor_values)\n",
    "        if sensor_array.ndim == 1:\n",
    "            sensor_array = sensor_array.reshape(-1, 1)\n",
    "        num_axes = sensor_array.shape[1]\n",
    "        col_names = [f'wrist_{sensor_name}_{i}' for i in range(num_axes)]\n",
    "        wrist_sensor_df = pd.DataFrame(sensor_array, columns=col_names)\n",
    "        wrist_sensor_dfs.append(wrist_sensor_df)\n",
    "    wrist_df = pd.concat(wrist_sensor_dfs, axis=1)\n",
    "\n",
    "    subject_df = pd.concat([chest_df, wrist_df], axis=1)\n",
    "    subject_df['stress'] = stress\n",
    "    subject_df['subject'] = subject\n",
    "    subject_df = subject_df.head(10000)\n",
    "    data_frames.append(subject_df)\n",
    "\n",
    "data_df = pd.concat(data_frames, ignore_index=True)\n",
    "data_df.to_csv('data.csv', index=False)"
   ]
  },
  {
   "cell_type": "markdown",
   "id": "0fb9c1cb",
   "metadata": {},
   "source": [
    "# Data Pre-processing"
   ]
  },
  {
   "cell_type": "code",
   "execution_count": 3,
   "id": "7d62ed00",
   "metadata": {},
   "outputs": [],
   "source": [
    "df = pd.read_csv('data.csv')"
   ]
  },
  {
   "cell_type": "code",
   "execution_count": 4,
   "id": "517ede6e",
   "metadata": {},
   "outputs": [
    {
     "name": "stdout",
     "output_type": "stream",
     "text": [
      "Rows: 30000, Columns: 16\n"
     ]
    }
   ],
   "source": [
    "print(f\"Rows: {data_df.shape[0]}, Columns: {data_df.shape[1]}\")"
   ]
  },
  {
   "cell_type": "code",
   "execution_count": 5,
   "id": "7c087662",
   "metadata": {},
   "outputs": [],
   "source": [
    "df.drop(columns=['stress'], inplace=True)"
   ]
  },
  {
   "cell_type": "code",
   "execution_count": 6,
   "id": "be4de7b1",
   "metadata": {},
   "outputs": [
    {
     "name": "stdout",
     "output_type": "stream",
     "text": [
      "chest_ACC_0     0\n",
      "chest_ACC_1     0\n",
      "chest_ACC_2     0\n",
      "chest_ECG_0     0\n",
      "chest_EMG_0     0\n",
      "chest_EDA_0     0\n",
      "chest_Temp_0    0\n",
      "chest_Resp_0    0\n",
      "wrist_ACC_0     0\n",
      "wrist_ACC_1     0\n",
      "wrist_ACC_2     0\n",
      "wrist_BVP_0     0\n",
      "wrist_EDA_0     0\n",
      "wrist_TEMP_0    0\n",
      "subject         0\n",
      "dtype: int64\n"
     ]
    }
   ],
   "source": [
    "print(df.isnull().sum())"
   ]
  },
  {
   "cell_type": "code",
   "execution_count": 7,
   "id": "5d845439",
   "metadata": {},
   "outputs": [
    {
     "data": {
      "text/html": [
       "<div>\n",
       "<style scoped>\n",
       "    .dataframe tbody tr th:only-of-type {\n",
       "        vertical-align: middle;\n",
       "    }\n",
       "\n",
       "    .dataframe tbody tr th {\n",
       "        vertical-align: top;\n",
       "    }\n",
       "\n",
       "    .dataframe thead th {\n",
       "        text-align: right;\n",
       "    }\n",
       "</style>\n",
       "<table border=\"1\" class=\"dataframe\">\n",
       "  <thead>\n",
       "    <tr style=\"text-align: right;\">\n",
       "      <th></th>\n",
       "      <th>chest_ACC_0</th>\n",
       "      <th>chest_ACC_1</th>\n",
       "      <th>chest_ACC_2</th>\n",
       "      <th>chest_ECG_0</th>\n",
       "      <th>chest_EMG_0</th>\n",
       "      <th>chest_EDA_0</th>\n",
       "      <th>chest_Temp_0</th>\n",
       "      <th>chest_Resp_0</th>\n",
       "      <th>wrist_ACC_0</th>\n",
       "      <th>wrist_ACC_1</th>\n",
       "      <th>wrist_ACC_2</th>\n",
       "      <th>wrist_BVP_0</th>\n",
       "      <th>wrist_EDA_0</th>\n",
       "      <th>wrist_TEMP_0</th>\n",
       "      <th>subject</th>\n",
       "    </tr>\n",
       "  </thead>\n",
       "  <tbody>\n",
       "    <tr>\n",
       "      <th>0</th>\n",
       "      <td>0.9554</td>\n",
       "      <td>-0.2220</td>\n",
       "      <td>-0.5580</td>\n",
       "      <td>0.021423</td>\n",
       "      <td>-0.004440</td>\n",
       "      <td>5.250549</td>\n",
       "      <td>30.120758</td>\n",
       "      <td>-1.148987</td>\n",
       "      <td>62.0</td>\n",
       "      <td>-21.0</td>\n",
       "      <td>107.0</td>\n",
       "      <td>-59.37</td>\n",
       "      <td>1.138257</td>\n",
       "      <td>35.41</td>\n",
       "      <td>S2</td>\n",
       "    </tr>\n",
       "    <tr>\n",
       "      <th>1</th>\n",
       "      <td>0.9258</td>\n",
       "      <td>-0.2216</td>\n",
       "      <td>-0.5538</td>\n",
       "      <td>0.020325</td>\n",
       "      <td>0.004349</td>\n",
       "      <td>5.267334</td>\n",
       "      <td>30.129517</td>\n",
       "      <td>-1.124573</td>\n",
       "      <td>66.0</td>\n",
       "      <td>13.0</td>\n",
       "      <td>53.0</td>\n",
       "      <td>-53.42</td>\n",
       "      <td>1.125444</td>\n",
       "      <td>35.41</td>\n",
       "      <td>S2</td>\n",
       "    </tr>\n",
       "    <tr>\n",
       "      <th>2</th>\n",
       "      <td>0.9082</td>\n",
       "      <td>-0.2196</td>\n",
       "      <td>-0.5392</td>\n",
       "      <td>0.016525</td>\n",
       "      <td>0.005173</td>\n",
       "      <td>5.243301</td>\n",
       "      <td>30.138214</td>\n",
       "      <td>-1.152039</td>\n",
       "      <td>41.0</td>\n",
       "      <td>9.0</td>\n",
       "      <td>15.0</td>\n",
       "      <td>-44.40</td>\n",
       "      <td>1.011405</td>\n",
       "      <td>35.41</td>\n",
       "      <td>S2</td>\n",
       "    </tr>\n",
       "    <tr>\n",
       "      <th>3</th>\n",
       "      <td>0.8974</td>\n",
       "      <td>-0.2102</td>\n",
       "      <td>-0.5122</td>\n",
       "      <td>0.016708</td>\n",
       "      <td>0.007187</td>\n",
       "      <td>5.249405</td>\n",
       "      <td>30.129517</td>\n",
       "      <td>-1.158142</td>\n",
       "      <td>52.0</td>\n",
       "      <td>16.0</td>\n",
       "      <td>24.0</td>\n",
       "      <td>-33.17</td>\n",
       "      <td>1.033188</td>\n",
       "      <td>35.41</td>\n",
       "      <td>S2</td>\n",
       "    </tr>\n",
       "    <tr>\n",
       "      <th>4</th>\n",
       "      <td>0.8882</td>\n",
       "      <td>-0.2036</td>\n",
       "      <td>-0.4824</td>\n",
       "      <td>0.011673</td>\n",
       "      <td>-0.015152</td>\n",
       "      <td>5.286407</td>\n",
       "      <td>30.130950</td>\n",
       "      <td>-1.161194</td>\n",
       "      <td>54.0</td>\n",
       "      <td>15.0</td>\n",
       "      <td>34.0</td>\n",
       "      <td>-20.79</td>\n",
       "      <td>0.935807</td>\n",
       "      <td>35.41</td>\n",
       "      <td>S2</td>\n",
       "    </tr>\n",
       "  </tbody>\n",
       "</table>\n",
       "</div>"
      ],
      "text/plain": [
       "   chest_ACC_0  chest_ACC_1  chest_ACC_2  chest_ECG_0  chest_EMG_0  \\\n",
       "0       0.9554      -0.2220      -0.5580     0.021423    -0.004440   \n",
       "1       0.9258      -0.2216      -0.5538     0.020325     0.004349   \n",
       "2       0.9082      -0.2196      -0.5392     0.016525     0.005173   \n",
       "3       0.8974      -0.2102      -0.5122     0.016708     0.007187   \n",
       "4       0.8882      -0.2036      -0.4824     0.011673    -0.015152   \n",
       "\n",
       "   chest_EDA_0  chest_Temp_0  chest_Resp_0  wrist_ACC_0  wrist_ACC_1  \\\n",
       "0     5.250549     30.120758     -1.148987         62.0        -21.0   \n",
       "1     5.267334     30.129517     -1.124573         66.0         13.0   \n",
       "2     5.243301     30.138214     -1.152039         41.0          9.0   \n",
       "3     5.249405     30.129517     -1.158142         52.0         16.0   \n",
       "4     5.286407     30.130950     -1.161194         54.0         15.0   \n",
       "\n",
       "   wrist_ACC_2  wrist_BVP_0  wrist_EDA_0  wrist_TEMP_0 subject  \n",
       "0        107.0       -59.37     1.138257         35.41      S2  \n",
       "1         53.0       -53.42     1.125444         35.41      S2  \n",
       "2         15.0       -44.40     1.011405         35.41      S2  \n",
       "3         24.0       -33.17     1.033188         35.41      S2  \n",
       "4         34.0       -20.79     0.935807         35.41      S2  "
      ]
     },
     "execution_count": 7,
     "metadata": {},
     "output_type": "execute_result"
    }
   ],
   "source": [
    "df.head()"
   ]
  },
  {
   "cell_type": "markdown",
   "id": "ac79cbeb",
   "metadata": {},
   "source": [
    "###### Variables:"
   ]
  },
  {
   "cell_type": "markdown",
   "id": "0c7aadea",
   "metadata": {},
   "source": [
    "chest_ACC_0 / chest_ACC_1 / chest_ACC_2 – 3-axis accelerometer readings from the chest sensor, measuring physical movement or activity levels along X, Y, and Z axes.\n",
    "\n",
    "\n",
    "chest_ECG_0 – Raw electrocardiogram (ECG) signal from the chest, capturing electrical activity of the heart.\n",
    "\n",
    "\n",
    "chest_EMG_0 – Electromyogram (EMG) signal from the chest, reflecting muscle activity and tension.\n",
    "\n",
    "\n",
    "chest_EDA_0 – Electrodermal activity (EDA) from the chest, indicating changes in skin conductance often associated with stress or arousal.\n",
    "\n",
    "\n",
    "chest_Temp_0 – Skin temperature recorded at the chest, which can vary with stress or physical exertion.\n",
    "\n",
    "\n",
    "chest_Resp_0 – Respiratory signal from the chest, measuring breathing patterns.\n",
    "\n",
    "\n",
    "wrist_ACC_0 / wrist_ACC_1 / wrist_ACC_2 – 3-axis accelerometer readings from the wrist sensor, detecting wrist movement in X, Y, and Z directions.\n",
    "\n",
    "\n",
    "wrist_BVP_0 – Blood volume pulse (BVP) signal from the wrist, used to derive heart rate and variability.\n",
    "\n",
    "\n",
    "wrist_EDA_0 – Electrodermal activity from the wrist, another measure of skin conductance linked to emotional arousal.\n",
    "\n",
    "\n",
    "wrist_TEMP_0 – Skin temperature measured at the wrist.\n",
    "\n",
    "\n",
    "subject – Identifier for the participant from whom the data was collected."
   ]
  },
  {
   "cell_type": "markdown",
   "id": "3acbbc86",
   "metadata": {},
   "source": [
    "#### Target Variable"
   ]
  },
  {
   "cell_type": "markdown",
   "id": "a182c9f4",
   "metadata": {},
   "source": [
    "Blood Volume Pulse (BVP) values do influence stress levels directly. BVP, measured using photoplethysmography (PPG), reflects cardiovascular changes related to stress responses. Studies have shown that BVP signals, along with other physiological indicators like Electrodermal Activity (EDA) and heart rate, can effectively detect and classify stress levels. For instance, research utilizing wrist-worn PPG sensors has demonstrated that BVP, in combination with EDA, achieves high accuracy in stress detection.\n",
    "\n",
    "I can use wrist_BVP_0 as my target variable because it reflects continuous cardiovascular activity, which is influenced by stress and affective states. Predicting BVP from other biometric signals allows me to model physiological responses and explore sensor fusion, making it a meaningful and valid regression problem for my project."
   ]
  },
  {
   "cell_type": "code",
   "execution_count": 8,
   "id": "bd943bef",
   "metadata": {},
   "outputs": [
    {
     "data": {
      "text/plain": [
       "count    30000.000000\n",
       "mean         0.014584\n",
       "std         50.229612\n",
       "min       -477.350000\n",
       "25%        -19.720000\n",
       "50%          2.800000\n",
       "75%         20.690000\n",
       "max        462.670000\n",
       "Name: wrist_BVP_0, dtype: float64"
      ]
     },
     "execution_count": 8,
     "metadata": {},
     "output_type": "execute_result"
    }
   ],
   "source": [
    "df.wrist_BVP_0.describe()"
   ]
  },
  {
   "cell_type": "code",
   "execution_count": 9,
   "id": "88951c65",
   "metadata": {},
   "outputs": [],
   "source": [
    "df.rename(columns={'wrist_BVP_0': 'BVP'}, inplace=True)\n",
    "df['BVP'] = df['BVP'].abs()"
   ]
  },
  {
   "cell_type": "code",
   "execution_count": 10,
   "id": "1f9a5cfc",
   "metadata": {},
   "outputs": [
    {
     "data": {
      "text/html": [
       "<div>\n",
       "<style scoped>\n",
       "    .dataframe tbody tr th:only-of-type {\n",
       "        vertical-align: middle;\n",
       "    }\n",
       "\n",
       "    .dataframe tbody tr th {\n",
       "        vertical-align: top;\n",
       "    }\n",
       "\n",
       "    .dataframe thead th {\n",
       "        text-align: right;\n",
       "    }\n",
       "</style>\n",
       "<table border=\"1\" class=\"dataframe\">\n",
       "  <thead>\n",
       "    <tr style=\"text-align: right;\">\n",
       "      <th></th>\n",
       "      <th>chest_ACC_0</th>\n",
       "      <th>chest_ACC_1</th>\n",
       "      <th>chest_ACC_2</th>\n",
       "      <th>chest_ECG_0</th>\n",
       "      <th>chest_EMG_0</th>\n",
       "      <th>chest_EDA_0</th>\n",
       "      <th>chest_Temp_0</th>\n",
       "      <th>chest_Resp_0</th>\n",
       "      <th>wrist_ACC_0</th>\n",
       "      <th>wrist_ACC_1</th>\n",
       "      <th>wrist_ACC_2</th>\n",
       "      <th>BVP</th>\n",
       "      <th>wrist_EDA_0</th>\n",
       "      <th>wrist_TEMP_0</th>\n",
       "      <th>subject</th>\n",
       "    </tr>\n",
       "  </thead>\n",
       "  <tbody>\n",
       "    <tr>\n",
       "      <th>0</th>\n",
       "      <td>0.9554</td>\n",
       "      <td>-0.2220</td>\n",
       "      <td>-0.5580</td>\n",
       "      <td>0.021423</td>\n",
       "      <td>-0.004440</td>\n",
       "      <td>5.250549</td>\n",
       "      <td>30.120758</td>\n",
       "      <td>-1.148987</td>\n",
       "      <td>62.0</td>\n",
       "      <td>-21.0</td>\n",
       "      <td>107.0</td>\n",
       "      <td>59.37</td>\n",
       "      <td>1.138257</td>\n",
       "      <td>35.41</td>\n",
       "      <td>S2</td>\n",
       "    </tr>\n",
       "    <tr>\n",
       "      <th>1</th>\n",
       "      <td>0.9258</td>\n",
       "      <td>-0.2216</td>\n",
       "      <td>-0.5538</td>\n",
       "      <td>0.020325</td>\n",
       "      <td>0.004349</td>\n",
       "      <td>5.267334</td>\n",
       "      <td>30.129517</td>\n",
       "      <td>-1.124573</td>\n",
       "      <td>66.0</td>\n",
       "      <td>13.0</td>\n",
       "      <td>53.0</td>\n",
       "      <td>53.42</td>\n",
       "      <td>1.125444</td>\n",
       "      <td>35.41</td>\n",
       "      <td>S2</td>\n",
       "    </tr>\n",
       "    <tr>\n",
       "      <th>2</th>\n",
       "      <td>0.9082</td>\n",
       "      <td>-0.2196</td>\n",
       "      <td>-0.5392</td>\n",
       "      <td>0.016525</td>\n",
       "      <td>0.005173</td>\n",
       "      <td>5.243301</td>\n",
       "      <td>30.138214</td>\n",
       "      <td>-1.152039</td>\n",
       "      <td>41.0</td>\n",
       "      <td>9.0</td>\n",
       "      <td>15.0</td>\n",
       "      <td>44.40</td>\n",
       "      <td>1.011405</td>\n",
       "      <td>35.41</td>\n",
       "      <td>S2</td>\n",
       "    </tr>\n",
       "    <tr>\n",
       "      <th>3</th>\n",
       "      <td>0.8974</td>\n",
       "      <td>-0.2102</td>\n",
       "      <td>-0.5122</td>\n",
       "      <td>0.016708</td>\n",
       "      <td>0.007187</td>\n",
       "      <td>5.249405</td>\n",
       "      <td>30.129517</td>\n",
       "      <td>-1.158142</td>\n",
       "      <td>52.0</td>\n",
       "      <td>16.0</td>\n",
       "      <td>24.0</td>\n",
       "      <td>33.17</td>\n",
       "      <td>1.033188</td>\n",
       "      <td>35.41</td>\n",
       "      <td>S2</td>\n",
       "    </tr>\n",
       "    <tr>\n",
       "      <th>4</th>\n",
       "      <td>0.8882</td>\n",
       "      <td>-0.2036</td>\n",
       "      <td>-0.4824</td>\n",
       "      <td>0.011673</td>\n",
       "      <td>-0.015152</td>\n",
       "      <td>5.286407</td>\n",
       "      <td>30.130950</td>\n",
       "      <td>-1.161194</td>\n",
       "      <td>54.0</td>\n",
       "      <td>15.0</td>\n",
       "      <td>34.0</td>\n",
       "      <td>20.79</td>\n",
       "      <td>0.935807</td>\n",
       "      <td>35.41</td>\n",
       "      <td>S2</td>\n",
       "    </tr>\n",
       "  </tbody>\n",
       "</table>\n",
       "</div>"
      ],
      "text/plain": [
       "   chest_ACC_0  chest_ACC_1  chest_ACC_2  chest_ECG_0  chest_EMG_0  \\\n",
       "0       0.9554      -0.2220      -0.5580     0.021423    -0.004440   \n",
       "1       0.9258      -0.2216      -0.5538     0.020325     0.004349   \n",
       "2       0.9082      -0.2196      -0.5392     0.016525     0.005173   \n",
       "3       0.8974      -0.2102      -0.5122     0.016708     0.007187   \n",
       "4       0.8882      -0.2036      -0.4824     0.011673    -0.015152   \n",
       "\n",
       "   chest_EDA_0  chest_Temp_0  chest_Resp_0  wrist_ACC_0  wrist_ACC_1  \\\n",
       "0     5.250549     30.120758     -1.148987         62.0        -21.0   \n",
       "1     5.267334     30.129517     -1.124573         66.0         13.0   \n",
       "2     5.243301     30.138214     -1.152039         41.0          9.0   \n",
       "3     5.249405     30.129517     -1.158142         52.0         16.0   \n",
       "4     5.286407     30.130950     -1.161194         54.0         15.0   \n",
       "\n",
       "   wrist_ACC_2    BVP  wrist_EDA_0  wrist_TEMP_0 subject  \n",
       "0        107.0  59.37     1.138257         35.41      S2  \n",
       "1         53.0  53.42     1.125444         35.41      S2  \n",
       "2         15.0  44.40     1.011405         35.41      S2  \n",
       "3         24.0  33.17     1.033188         35.41      S2  \n",
       "4         34.0  20.79     0.935807         35.41      S2  "
      ]
     },
     "execution_count": 10,
     "metadata": {},
     "output_type": "execute_result"
    }
   ],
   "source": [
    "df.head()"
   ]
  },
  {
   "cell_type": "code",
   "execution_count": 11,
   "id": "979d3833",
   "metadata": {},
   "outputs": [
    {
     "data": {
      "text/plain": [
       "count    30000.000000\n",
       "mean        31.392361\n",
       "std         39.210979\n",
       "min          0.000000\n",
       "25%          9.157500\n",
       "50%         20.270000\n",
       "75%         36.670000\n",
       "max        477.350000\n",
       "Name: BVP, dtype: float64"
      ]
     },
     "execution_count": 11,
     "metadata": {},
     "output_type": "execute_result"
    }
   ],
   "source": [
    "df.BVP.describe()"
   ]
  },
  {
   "cell_type": "markdown",
   "id": "2253db77",
   "metadata": {},
   "source": [
    "# Visualization of Data"
   ]
  },
  {
   "cell_type": "code",
   "execution_count": 12,
   "id": "ec6117d6",
   "metadata": {},
   "outputs": [],
   "source": [
    "import seaborn as sns\n",
    "import matplotlib.pyplot as plt"
   ]
  },
  {
   "cell_type": "code",
   "execution_count": 14,
   "id": "8162cdbb",
   "metadata": {},
   "outputs": [
    {
     "data": {
      "image/png": "[encoded data removed]",
      "text/plain": [
       "<Figure size 864x432 with 1 Axes>"
      ]
     },
     "metadata": {
      "needs_background": "light"
     },
     "output_type": "display_data"
    }
   ],
   "source": [
    "plt.figure(figsize=(12, 6))\n",
    "sns.countplot(x='subject', data=df, palette='Set2')\n",
    "plt.title('Count of Observations per Subject')\n",
    "plt.xlabel('Subject')\n",
    "plt.ylabel('Count')\n",
    "plt.show()"
   ]
  },
  {
   "cell_type": "code",
   "execution_count": 15,
   "id": "f6dadcc6",
   "metadata": {},
   "outputs": [
    {
     "data": {
      "image/png": "[encoded data removed]",
      "text/plain": [
       "<Figure size 864x432 with 2 Axes>"
      ]
     },
     "metadata": {
      "needs_background": "light"
     },
     "output_type": "display_data"
    }
   ],
   "source": [
    "fig, axes = plt.subplots(1, 2, figsize=(12, 6))\n",
    "sns.kdeplot(df['BVP'], fill=True, color='blue', alpha=0.6, ax=axes[0])\n",
    "axes[0].set_title('Density Plot of BVP')\n",
    "axes[0].set_xlabel('BVP')\n",
    "axes[0].set_ylabel('Density')\n",
    "sns.boxplot(x=df['BVP'], color='green', ax=axes[1])\n",
    "axes[1].set_title('Box Plot of BVP')\n",
    "axes[1].set_xlabel('BVP')\n",
    "plt.tight_layout()\n",
    "plt.show()"
   ]
  },
  {
   "cell_type": "code",
   "execution_count": 16,
   "id": "40ce48f5",
   "metadata": {},
   "outputs": [],
   "source": [
    "Q1 = df['BVP'].quantile(0.25)\n",
    "Q3 = df['BVP'].quantile(0.75)\n",
    "IQR = Q3 - Q1\n",
    "lower_bound = Q1 - 1.5 * IQR\n",
    "upper_bound = Q3 + 1.5 * IQR\n",
    "\n",
    "df = df[(df['BVP'] >= lower_bound) & (df['BVP'] <= upper_bound)]"
   ]
  },
  {
   "cell_type": "code",
   "execution_count": 17,
   "id": "5299f06b",
   "metadata": {},
   "outputs": [
    {
     "data": {
      "text/plain": [
       "<Figure size 864x432 with 0 Axes>"
      ]
     },
     "metadata": {},
     "output_type": "display_data"
    },
    {
     "data": {
      "image/png": "[encoded data removed]",
      "text/plain": [
       "<Figure size 864x432 with 2 Axes>"
      ]
     },
     "metadata": {
      "needs_background": "light"
     },
     "output_type": "display_data"
    }
   ],
   "source": [
    "plt.figure(figsize=(12, 6))\n",
    "fig, axes = plt.subplots(1, 2, figsize=(12, 6))\n",
    "sns.kdeplot(df['BVP'], fill=True, color='blue', alpha=0.6, ax=axes[0])\n",
    "axes[0].set_title('Density Plot of BVP (Outliers Removed)')\n",
    "axes[0].set_xlabel('BVP')\n",
    "axes[0].set_ylabel('Density')\n",
    "sns.boxplot(x=df['BVP'], color='green', ax=axes[1])\n",
    "axes[1].set_title('Box Plot of BVP (Outliers Removed)')\n",
    "axes[1].set_xlabel('BVP')\n",
    "plt.tight_layout()\n",
    "plt.show()"
   ]
  },
  {
   "cell_type": "code",
   "execution_count": 18,
   "id": "3582e800",
   "metadata": {},
   "outputs": [
    {
     "data": {
      "image/png": "[encoded data removed]",
      "text/plain": [
       "<Figure size 1080x360 with 3 Axes>"
      ]
     },
     "metadata": {
      "needs_background": "light"
     },
     "output_type": "display_data"
    }
   ],
   "source": [
    "fig, axes = plt.subplots(1, 3, figsize=(15, 5))\n",
    "sns.kdeplot(df['chest_ACC_0'], fill=True, color='blue', alpha=0.6, ax=axes[0])\n",
    "axes[0].set_title('Density Plot of chest_ACC_0')\n",
    "axes[0].set_xlabel('chest_ACC_0')\n",
    "axes[0].set_ylabel('Density')\n",
    "sns.kdeplot(df['chest_ACC_1'], fill=True, color='green', alpha=0.6, ax=axes[1])\n",
    "axes[1].set_title('Density Plot of chest_ACC_1')\n",
    "axes[1].set_xlabel('chest_ACC_1')\n",
    "axes[1].set_ylabel('Density')\n",
    "sns.kdeplot(df['chest_ACC_2'], fill=True, color='red', alpha=0.6, ax=axes[2])\n",
    "axes[2].set_title('Density Plot of chest_ACC_2')\n",
    "axes[2].set_xlabel('chest_ACC_2')\n",
    "axes[2].set_ylabel('Density')\n",
    "plt.tight_layout()\n",
    "plt.show()"
   ]
  },
  {
   "cell_type": "code",
   "execution_count": 19,
   "id": "3cd3cf39",
   "metadata": {},
   "outputs": [
    {
     "data": {
      "image/png": "[encoded data removed]",
      "text/plain": [
       "<Figure size 1080x360 with 3 Axes>"
      ]
     },
     "metadata": {
      "needs_background": "light"
     },
     "output_type": "display_data"
    }
   ],
   "source": [
    "fig, axes = plt.subplots(1, 3, figsize=(15, 5))\n",
    "sns.kdeplot(df['wrist_ACC_0'], fill=True, color='blue', alpha=0.6, ax=axes[0])\n",
    "axes[0].set_title('Density Plot of wrist_ACC_0')\n",
    "axes[0].set_xlabel('wrist_ACC_0')\n",
    "axes[0].set_ylabel('Density')\n",
    "sns.kdeplot(df['wrist_ACC_1'], fill=True, color='green', alpha=0.6, ax=axes[1])\n",
    "axes[1].set_title('Density Plot of wrist_ACC_1')\n",
    "axes[1].set_xlabel('wrist_ACC_1')\n",
    "axes[1].set_ylabel('Density')\n",
    "sns.kdeplot(df['wrist_ACC_2'], fill=True, color='red', alpha=0.6, ax=axes[2])\n",
    "axes[2].set_title('Density Plot of wrist_ACC_2')\n",
    "axes[2].set_xlabel('wrist_ACC_2')\n",
    "axes[2].set_ylabel('Density')\n",
    "plt.tight_layout()\n",
    "plt.show()"
   ]
  },
  {
   "cell_type": "code",
   "execution_count": 20,
   "id": "e03824f4",
   "metadata": {},
   "outputs": [
    {
     "data": {
      "image/png": "[encoded data removed]",
      "text/plain": [
       "<Figure size 576x432 with 1 Axes>"
      ]
     },
     "metadata": {
      "needs_background": "light"
     },
     "output_type": "display_data"
    }
   ],
   "source": [
    "plt.figure(figsize=(8, 6))\n",
    "plt.scatter(df['chest_EDA_0'], df['wrist_EDA_0'], alpha=0.6, color='purple')\n",
    "plt.title('Scatter Plot of chest_EDA_0 vs. wrist_EDA_0')\n",
    "plt.xlabel('chest_EDA_0')\n",
    "plt.ylabel('wrist_EDA_0')\n",
    "plt.show()"
   ]
  },
  {
   "cell_type": "code",
   "execution_count": 21,
   "id": "f960d4a2",
   "metadata": {},
   "outputs": [
    {
     "data": {
      "image/png": "[encoded data removed]",
      "text/plain": [
       "<Figure size 576x432 with 1 Axes>"
      ]
     },
     "metadata": {
      "needs_background": "light"
     },
     "output_type": "display_data"
    }
   ],
   "source": [
    "plt.figure(figsize=(8, 6))\n",
    "sns.kdeplot(df['wrist_TEMP_0'], fill=True, color='green', alpha=0.6)\n",
    "plt.title('Density Plot of wrist_TEMP_0')\n",
    "plt.xlabel('wrist_TEMP_0')\n",
    "plt.ylabel('Density')\n",
    "plt.show()"
   ]
  },
  {
   "cell_type": "markdown",
   "id": "d59b7b82",
   "metadata": {},
   "source": [
    "# Data Modeling"
   ]
  },
  {
   "cell_type": "code",
   "execution_count": 22,
   "id": "42dd24c4",
   "metadata": {},
   "outputs": [],
   "source": [
    "df.drop(columns=['subject'], inplace=True)"
   ]
  },
  {
   "cell_type": "code",
   "execution_count": 24,
   "id": "865518b9",
   "metadata": {},
   "outputs": [
    {
     "data": {
      "image/png": "[encoded data removed]",
      "text/plain": [
       "<Figure size 864x720 with 2 Axes>"
      ]
     },
     "metadata": {
      "needs_background": "light"
     },
     "output_type": "display_data"
    }
   ],
   "source": [
    "corr_matrix = df.corr()\n",
    "mask = np.triu(np.ones_like(corr_matrix, dtype=bool))\n",
    "plt.figure(figsize=(12, 10))\n",
    "sns.heatmap(corr_matrix, mask=mask, annot=True, fmt=\".2f\", square=True, linewidths=.5, cbar_kws={\"shrink\": .5})\n",
    "plt.title('Correlation Matrix Heatmap')\n",
    "plt.show()"
   ]
  },
  {
   "cell_type": "code",
   "execution_count": 25,
   "id": "4162c43a",
   "metadata": {},
   "outputs": [],
   "source": [
    "from sklearn.preprocessing import StandardScaler"
   ]
  },
  {
   "cell_type": "code",
   "execution_count": 27,
   "id": "a651d732",
   "metadata": {},
   "outputs": [],
   "source": [
    "y = df['BVP']; x = df.drop(columns=['BVP'])\n",
    "\n",
    "scaler = StandardScaler()\n",
    "x = scaler.fit_transform(x)"
   ]
  },
  {
   "cell_type": "code",
   "execution_count": 28,
   "id": "8d9f2907",
   "metadata": {},
   "outputs": [],
   "source": [
    "from sklearn.model_selection import train_test_split"
   ]
  },
  {
   "cell_type": "code",
   "execution_count": 29,
   "id": "92c3b2ab",
   "metadata": {},
   "outputs": [],
   "source": [
    "x_train, x_test, y_train, y_test = train_test_split(x, y, test_size=0.2, random_state=42)"
   ]
  },
  {
   "cell_type": "code",
   "execution_count": 30,
   "id": "9740a81f",
   "metadata": {},
   "outputs": [
    {
     "name": "stdout",
     "output_type": "stream",
     "text": [
      "x_train shape: (22062, 13)\n",
      "x_test shape: (5516, 13)\n"
     ]
    }
   ],
   "source": [
    "print(\"x_train shape:\", x_train.shape)\n",
    "print(\"x_test shape:\", x_test.shape)"
   ]
  },
  {
   "cell_type": "markdown",
   "id": "9b1feecd",
   "metadata": {},
   "source": [
    "## Regression Modelling"
   ]
  },
  {
   "cell_type": "markdown",
   "id": "bf3b2b66",
   "metadata": {},
   "source": [
    "### 1. Linear Regression: Baseline"
   ]
  },
  {
   "cell_type": "markdown",
   "id": "6177157f",
   "metadata": {},
   "source": [
    "# Linear Regression"
   ]
  },
  {
   "cell_type": "code",
   "execution_count": 31,
   "id": "20df3201",
   "metadata": {},
   "outputs": [],
   "source": [
    "from sklearn.linear_model import LinearRegression\n",
    "from sklearn.metrics import mean_squared_error, r2_score"
   ]
  },
  {
   "cell_type": "code",
   "execution_count": 32,
   "id": "1e836a4c",
   "metadata": {},
   "outputs": [
    {
     "name": "stdout",
     "output_type": "stream",
     "text": [
      "Train Mean Squared Error (MSE): 268.88594131621085\n",
      "Train R-squared (R2): 0.1310050944178508\n"
     ]
    }
   ],
   "source": [
    "model = LinearRegression()\n",
    "model.fit(x_train, y_train)\n",
    "y_pred = model.predict(x_train)\n",
    "mse = mean_squared_error(y_train, y_pred)\n",
    "r2 = r2_score(y_train, y_pred)\n",
    "\n",
    "print(\"Train Mean Squared Error (MSE):\", mse)\n",
    "print(\"Train R-squared (R2):\", r2)"
   ]
  },
  {
   "cell_type": "code",
   "execution_count": 33,
   "id": "62b1f5d7",
   "metadata": {},
   "outputs": [
    {
     "name": "stdout",
     "output_type": "stream",
     "text": [
      "Test Mean Squared Error (MSE): 266.90653174487187\n",
      "Test R-squared (R2): 0.12581745081017082\n"
     ]
    }
   ],
   "source": [
    "model = LinearRegression()\n",
    "model.fit(x_train, y_train)\n",
    "y_pred = model.predict(x_test)\n",
    "mse = mean_squared_error(y_test, y_pred)\n",
    "r2 = r2_score(y_test, y_pred)\n",
    "\n",
    "print(\"Test Mean Squared Error (MSE):\", mse)\n",
    "print(\"Test R-squared (R2):\", r2)"
   ]
  },
  {
   "cell_type": "code",
   "execution_count": 35,
   "id": "9e9bcbf1",
   "metadata": {},
   "outputs": [
    {
     "data": {
      "text/html": [
       "<div>\n",
       "<style scoped>\n",
       "    .dataframe tbody tr th:only-of-type {\n",
       "        vertical-align: middle;\n",
       "    }\n",
       "\n",
       "    .dataframe tbody tr th {\n",
       "        vertical-align: top;\n",
       "    }\n",
       "\n",
       "    .dataframe thead th {\n",
       "        text-align: right;\n",
       "    }\n",
       "</style>\n",
       "<table border=\"1\" class=\"dataframe\">\n",
       "  <thead>\n",
       "    <tr style=\"text-align: right;\">\n",
       "      <th></th>\n",
       "      <th>Actual</th>\n",
       "      <th>Predicted</th>\n",
       "    </tr>\n",
       "  </thead>\n",
       "  <tbody>\n",
       "    <tr>\n",
       "      <th>29953</th>\n",
       "      <td>25.81</td>\n",
       "      <td>31.815821</td>\n",
       "    </tr>\n",
       "    <tr>\n",
       "      <th>14841</th>\n",
       "      <td>1.52</td>\n",
       "      <td>17.162013</td>\n",
       "    </tr>\n",
       "    <tr>\n",
       "      <th>21218</th>\n",
       "      <td>6.34</td>\n",
       "      <td>32.359024</td>\n",
       "    </tr>\n",
       "    <tr>\n",
       "      <th>7898</th>\n",
       "      <td>33.08</td>\n",
       "      <td>19.175119</td>\n",
       "    </tr>\n",
       "    <tr>\n",
       "      <th>7255</th>\n",
       "      <td>0.35</td>\n",
       "      <td>18.643244</td>\n",
       "    </tr>\n",
       "    <tr>\n",
       "      <th>533</th>\n",
       "      <td>48.74</td>\n",
       "      <td>22.186488</td>\n",
       "    </tr>\n",
       "    <tr>\n",
       "      <th>6462</th>\n",
       "      <td>22.73</td>\n",
       "      <td>20.542695</td>\n",
       "    </tr>\n",
       "    <tr>\n",
       "      <th>22017</th>\n",
       "      <td>52.65</td>\n",
       "      <td>32.400830</td>\n",
       "    </tr>\n",
       "    <tr>\n",
       "      <th>6302</th>\n",
       "      <td>0.20</td>\n",
       "      <td>19.836096</td>\n",
       "    </tr>\n",
       "    <tr>\n",
       "      <th>29403</th>\n",
       "      <td>56.03</td>\n",
       "      <td>30.447159</td>\n",
       "    </tr>\n",
       "  </tbody>\n",
       "</table>\n",
       "</div>"
      ],
      "text/plain": [
       "       Actual  Predicted\n",
       "29953   25.81  31.815821\n",
       "14841    1.52  17.162013\n",
       "21218    6.34  32.359024\n",
       "7898    33.08  19.175119\n",
       "7255     0.35  18.643244\n",
       "533     48.74  22.186488\n",
       "6462    22.73  20.542695\n",
       "22017   52.65  32.400830\n",
       "6302     0.20  19.836096\n",
       "29403   56.03  30.447159"
      ]
     },
     "execution_count": 35,
     "metadata": {},
     "output_type": "execute_result"
    }
   ],
   "source": [
    "lr_results = pd.DataFrame({'Actual': y_test, 'Predicted': y_pred})\n",
    "lr_results.head(10)"
   ]
  },
  {
   "cell_type": "markdown",
   "id": "0a535ce8",
   "metadata": {},
   "source": [
    "### 2. Lasso Regression"
   ]
  },
  {
   "cell_type": "markdown",
   "id": "9e5d144c",
   "metadata": {},
   "source": [
    "# Lasso Regression"
   ]
  },
  {
   "cell_type": "code",
   "execution_count": 36,
   "id": "5520dec4",
   "metadata": {},
   "outputs": [],
   "source": [
    "from sklearn.linear_model import Lasso"
   ]
  },
  {
   "cell_type": "code",
   "execution_count": 37,
   "id": "454a6c17",
   "metadata": {},
   "outputs": [
    {
     "name": "stdout",
     "output_type": "stream",
     "text": [
      "Train Mean Squared Error (MSE): 271.94346611435293\n",
      "Train R-squared (R2): 0.12112367979174377\n"
     ]
    }
   ],
   "source": [
    "model = Lasso()\n",
    "model.fit(x_train, y_train)\n",
    "y_pred = model.predict(x_train)\n",
    "mse = mean_squared_error(y_train, y_pred)\n",
    "r2 = r2_score(y_train, y_pred)\n",
    "\n",
    "print(\"Train Mean Squared Error (MSE):\", mse)\n",
    "print(\"Train R-squared (R2):\", r2)"
   ]
  },
  {
   "cell_type": "code",
   "execution_count": 38,
   "id": "d547c561",
   "metadata": {},
   "outputs": [
    {
     "name": "stdout",
     "output_type": "stream",
     "text": [
      "Test Mean Squared Error (MSE): 270.034188460318\n",
      "Test R-squared (R2): 0.11557362911489344\n"
     ]
    }
   ],
   "source": [
    "model = Lasso()\n",
    "model.fit(x_train, y_train)\n",
    "y_pred = model.predict(x_test)\n",
    "mse = mean_squared_error(y_test, y_pred)\n",
    "r2 = r2_score(y_test, y_pred)\n",
    "\n",
    "print(\"Test Mean Squared Error (MSE):\", mse)\n",
    "print(\"Test R-squared (R2):\", r2)"
   ]
  },
  {
   "cell_type": "code",
   "execution_count": 39,
   "id": "38206396",
   "metadata": {},
   "outputs": [
    {
     "data": {
      "text/html": [
       "<div>\n",
       "<style scoped>\n",
       "    .dataframe tbody tr th:only-of-type {\n",
       "        vertical-align: middle;\n",
       "    }\n",
       "\n",
       "    .dataframe tbody tr th {\n",
       "        vertical-align: top;\n",
       "    }\n",
       "\n",
       "    .dataframe thead th {\n",
       "        text-align: right;\n",
       "    }\n",
       "</style>\n",
       "<table border=\"1\" class=\"dataframe\">\n",
       "  <thead>\n",
       "    <tr style=\"text-align: right;\">\n",
       "      <th></th>\n",
       "      <th>Actual</th>\n",
       "      <th>Predicted</th>\n",
       "    </tr>\n",
       "  </thead>\n",
       "  <tbody>\n",
       "    <tr>\n",
       "      <th>29953</th>\n",
       "      <td>25.81</td>\n",
       "      <td>29.447431</td>\n",
       "    </tr>\n",
       "    <tr>\n",
       "      <th>14841</th>\n",
       "      <td>1.52</td>\n",
       "      <td>17.464821</td>\n",
       "    </tr>\n",
       "    <tr>\n",
       "      <th>21218</th>\n",
       "      <td>6.34</td>\n",
       "      <td>30.065990</td>\n",
       "    </tr>\n",
       "    <tr>\n",
       "      <th>7898</th>\n",
       "      <td>33.08</td>\n",
       "      <td>20.814260</td>\n",
       "    </tr>\n",
       "    <tr>\n",
       "      <th>7255</th>\n",
       "      <td>0.35</td>\n",
       "      <td>20.028852</td>\n",
       "    </tr>\n",
       "    <tr>\n",
       "      <th>533</th>\n",
       "      <td>48.74</td>\n",
       "      <td>21.629857</td>\n",
       "    </tr>\n",
       "    <tr>\n",
       "      <th>6462</th>\n",
       "      <td>22.73</td>\n",
       "      <td>20.594433</td>\n",
       "    </tr>\n",
       "    <tr>\n",
       "      <th>22017</th>\n",
       "      <td>52.65</td>\n",
       "      <td>30.020044</td>\n",
       "    </tr>\n",
       "    <tr>\n",
       "      <th>6302</th>\n",
       "      <td>0.20</td>\n",
       "      <td>20.462743</td>\n",
       "    </tr>\n",
       "    <tr>\n",
       "      <th>29403</th>\n",
       "      <td>56.03</td>\n",
       "      <td>28.992938</td>\n",
       "    </tr>\n",
       "  </tbody>\n",
       "</table>\n",
       "</div>"
      ],
      "text/plain": [
       "       Actual  Predicted\n",
       "29953   25.81  29.447431\n",
       "14841    1.52  17.464821\n",
       "21218    6.34  30.065990\n",
       "7898    33.08  20.814260\n",
       "7255     0.35  20.028852\n",
       "533     48.74  21.629857\n",
       "6462    22.73  20.594433\n",
       "22017   52.65  30.020044\n",
       "6302     0.20  20.462743\n",
       "29403   56.03  28.992938"
      ]
     },
     "execution_count": 39,
     "metadata": {},
     "output_type": "execute_result"
    }
   ],
   "source": [
    "lsr_results = pd.DataFrame({'Actual': y_test, 'Predicted': y_pred})\n",
    "lsr_results.head(10)"
   ]
  },
  {
   "cell_type": "markdown",
   "id": "17d89383",
   "metadata": {},
   "source": [
    "### 3. Random Forest Regression"
   ]
  },
  {
   "cell_type": "markdown",
   "id": "6be64abd",
   "metadata": {},
   "source": [
    "# Random Forest Regression"
   ]
  },
  {
   "cell_type": "code",
   "execution_count": 40,
   "id": "fecff61a",
   "metadata": {},
   "outputs": [],
   "source": [
    "from sklearn.ensemble import RandomForestRegressor"
   ]
  },
  {
   "cell_type": "code",
   "execution_count": 41,
   "id": "854a8e35",
   "metadata": {},
   "outputs": [
    {
     "name": "stdout",
     "output_type": "stream",
     "text": [
      "Train Mean Squared Error (MSE): 14.414837310607833\n",
      "Train R-squared (R2): 0.9534136291157648\n"
     ]
    }
   ],
   "source": [
    "model = RandomForestRegressor()\n",
    "model.fit(x_train, y_train)\n",
    "y_pred = model.predict(x_train)\n",
    "mse = mean_squared_error(y_train, y_pred)\n",
    "r2 = r2_score(y_train, y_pred)\n",
    "\n",
    "print(\"Train Mean Squared Error (MSE):\", mse)\n",
    "print(\"Train R-squared (R2):\", r2)"
   ]
  },
  {
   "cell_type": "code",
   "execution_count": 42,
   "id": "1d4aedcd",
   "metadata": {},
   "outputs": [
    {
     "name": "stdout",
     "output_type": "stream",
     "text": [
      "Test Mean Squared Error (MSE): 103.54977982277556\n",
      "Test R-squared (R2): 0.6608497742571312\n"
     ]
    }
   ],
   "source": [
    "model = RandomForestRegressor()\n",
    "model.fit(x_train, y_train)\n",
    "y_pred = model.predict(x_test)\n",
    "mse = mean_squared_error(y_test, y_pred)\n",
    "r2 = r2_score(y_test, y_pred)\n",
    "\n",
    "print(\"Test Mean Squared Error (MSE):\", mse)\n",
    "print(\"Test R-squared (R2):\", r2)"
   ]
  },
  {
   "cell_type": "code",
   "execution_count": 43,
   "id": "22c0c45b",
   "metadata": {},
   "outputs": [
    {
     "data": {
      "text/html": [
       "<div>\n",
       "<style scoped>\n",
       "    .dataframe tbody tr th:only-of-type {\n",
       "        vertical-align: middle;\n",
       "    }\n",
       "\n",
       "    .dataframe tbody tr th {\n",
       "        vertical-align: top;\n",
       "    }\n",
       "\n",
       "    .dataframe thead th {\n",
       "        text-align: right;\n",
       "    }\n",
       "</style>\n",
       "<table border=\"1\" class=\"dataframe\">\n",
       "  <thead>\n",
       "    <tr style=\"text-align: right;\">\n",
       "      <th></th>\n",
       "      <th>Actual</th>\n",
       "      <th>Predicted</th>\n",
       "    </tr>\n",
       "  </thead>\n",
       "  <tbody>\n",
       "    <tr>\n",
       "      <th>29953</th>\n",
       "      <td>25.81</td>\n",
       "      <td>26.5678</td>\n",
       "    </tr>\n",
       "    <tr>\n",
       "      <th>14841</th>\n",
       "      <td>1.52</td>\n",
       "      <td>5.6239</td>\n",
       "    </tr>\n",
       "    <tr>\n",
       "      <th>21218</th>\n",
       "      <td>6.34</td>\n",
       "      <td>28.9789</td>\n",
       "    </tr>\n",
       "    <tr>\n",
       "      <th>7898</th>\n",
       "      <td>33.08</td>\n",
       "      <td>24.6833</td>\n",
       "    </tr>\n",
       "    <tr>\n",
       "      <th>7255</th>\n",
       "      <td>0.35</td>\n",
       "      <td>4.3613</td>\n",
       "    </tr>\n",
       "    <tr>\n",
       "      <th>533</th>\n",
       "      <td>48.74</td>\n",
       "      <td>31.1317</td>\n",
       "    </tr>\n",
       "    <tr>\n",
       "      <th>6462</th>\n",
       "      <td>22.73</td>\n",
       "      <td>23.1879</td>\n",
       "    </tr>\n",
       "    <tr>\n",
       "      <th>22017</th>\n",
       "      <td>52.65</td>\n",
       "      <td>63.6477</td>\n",
       "    </tr>\n",
       "    <tr>\n",
       "      <th>6302</th>\n",
       "      <td>0.20</td>\n",
       "      <td>10.2112</td>\n",
       "    </tr>\n",
       "    <tr>\n",
       "      <th>29403</th>\n",
       "      <td>56.03</td>\n",
       "      <td>53.7831</td>\n",
       "    </tr>\n",
       "  </tbody>\n",
       "</table>\n",
       "</div>"
      ],
      "text/plain": [
       "       Actual  Predicted\n",
       "29953   25.81    26.5678\n",
       "14841    1.52     5.6239\n",
       "21218    6.34    28.9789\n",
       "7898    33.08    24.6833\n",
       "7255     0.35     4.3613\n",
       "533     48.74    31.1317\n",
       "6462    22.73    23.1879\n",
       "22017   52.65    63.6477\n",
       "6302     0.20    10.2112\n",
       "29403   56.03    53.7831"
      ]
     },
     "execution_count": 43,
     "metadata": {},
     "output_type": "execute_result"
    }
   ],
   "source": [
    "rfr_results = pd.DataFrame({'Actual': y_test, 'Predicted': y_pred})\n",
    "rfr_results.head(10)"
   ]
  },
  {
   "cell_type": "markdown",
   "id": "29472d3c",
   "metadata": {},
   "source": [
    "### 4. XGBoost Regression"
   ]
  },
  {
   "cell_type": "markdown",
   "id": "562effe1",
   "metadata": {},
   "source": [
    "# XGBoost Regression"
   ]
  },
  {
   "cell_type": "code",
   "execution_count": 45,
   "id": "ae509215",
   "metadata": {},
   "outputs": [],
   "source": [
    "from xgboost import XGBRegressor\n",
    "import warnings\n",
    "warnings.filterwarnings(\"ignore\")"
   ]
  },
  {
   "cell_type": "code",
   "execution_count": 46,
   "id": "0259537b",
   "metadata": {},
   "outputs": [
    {
     "name": "stdout",
     "output_type": "stream",
     "text": [
      "Train Mean Squared Error (MSE): 91.8802314080259\n",
      "Train R-squared (R2): 0.7030582832763752\n"
     ]
    }
   ],
   "source": [
    "model = XGBRegressor(objective='reg:squarederror')\n",
    "model.fit(x_train, y_train)\n",
    "y_pred = model.predict(x_train)\n",
    "mse = mean_squared_error(y_train, y_pred)\n",
    "r2 = r2_score(y_train, y_pred)\n",
    "\n",
    "print(\"Train Mean Squared Error (MSE):\", mse)\n",
    "print(\"Train R-squared (R2):\", r2)"
   ]
  },
  {
   "cell_type": "code",
   "execution_count": 47,
   "id": "49dfe975",
   "metadata": {},
   "outputs": [
    {
     "name": "stdout",
     "output_type": "stream",
     "text": [
      "Test Mean Squared Error (MSE): 159.32531260674565\n",
      "Test R-squared (R2): 0.478171601816907\n"
     ]
    }
   ],
   "source": [
    "model = XGBRegressor(objective='reg:squarederror')\n",
    "model.fit(x_train, y_train)\n",
    "y_pred = model.predict(x_test)\n",
    "mse = mean_squared_error(y_test, y_pred)\n",
    "r2 = r2_score(y_test, y_pred)\n",
    "\n",
    "print(\"Test Mean Squared Error (MSE):\", mse)\n",
    "print(\"Test R-squared (R2):\", r2)"
   ]
  },
  {
   "cell_type": "code",
   "execution_count": 48,
   "id": "0a9e66af",
   "metadata": {},
   "outputs": [
    {
     "data": {
      "text/html": [
       "<div>\n",
       "<style scoped>\n",
       "    .dataframe tbody tr th:only-of-type {\n",
       "        vertical-align: middle;\n",
       "    }\n",
       "\n",
       "    .dataframe tbody tr th {\n",
       "        vertical-align: top;\n",
       "    }\n",
       "\n",
       "    .dataframe thead th {\n",
       "        text-align: right;\n",
       "    }\n",
       "</style>\n",
       "<table border=\"1\" class=\"dataframe\">\n",
       "  <thead>\n",
       "    <tr style=\"text-align: right;\">\n",
       "      <th></th>\n",
       "      <th>Actual</th>\n",
       "      <th>Predicted</th>\n",
       "    </tr>\n",
       "  </thead>\n",
       "  <tbody>\n",
       "    <tr>\n",
       "      <th>29953</th>\n",
       "      <td>25.81</td>\n",
       "      <td>20.446409</td>\n",
       "    </tr>\n",
       "    <tr>\n",
       "      <th>14841</th>\n",
       "      <td>1.52</td>\n",
       "      <td>8.866219</td>\n",
       "    </tr>\n",
       "    <tr>\n",
       "      <th>21218</th>\n",
       "      <td>6.34</td>\n",
       "      <td>25.502895</td>\n",
       "    </tr>\n",
       "    <tr>\n",
       "      <th>7898</th>\n",
       "      <td>33.08</td>\n",
       "      <td>28.857565</td>\n",
       "    </tr>\n",
       "    <tr>\n",
       "      <th>7255</th>\n",
       "      <td>0.35</td>\n",
       "      <td>4.712342</td>\n",
       "    </tr>\n",
       "    <tr>\n",
       "      <th>533</th>\n",
       "      <td>48.74</td>\n",
       "      <td>35.522808</td>\n",
       "    </tr>\n",
       "    <tr>\n",
       "      <th>6462</th>\n",
       "      <td>22.73</td>\n",
       "      <td>18.933292</td>\n",
       "    </tr>\n",
       "    <tr>\n",
       "      <th>22017</th>\n",
       "      <td>52.65</td>\n",
       "      <td>50.323387</td>\n",
       "    </tr>\n",
       "    <tr>\n",
       "      <th>6302</th>\n",
       "      <td>0.20</td>\n",
       "      <td>12.717027</td>\n",
       "    </tr>\n",
       "    <tr>\n",
       "      <th>29403</th>\n",
       "      <td>56.03</td>\n",
       "      <td>43.486526</td>\n",
       "    </tr>\n",
       "  </tbody>\n",
       "</table>\n",
       "</div>"
      ],
      "text/plain": [
       "       Actual  Predicted\n",
       "29953   25.81  20.446409\n",
       "14841    1.52   8.866219\n",
       "21218    6.34  25.502895\n",
       "7898    33.08  28.857565\n",
       "7255     0.35   4.712342\n",
       "533     48.74  35.522808\n",
       "6462    22.73  18.933292\n",
       "22017   52.65  50.323387\n",
       "6302     0.20  12.717027\n",
       "29403   56.03  43.486526"
      ]
     },
     "execution_count": 48,
     "metadata": {},
     "output_type": "execute_result"
    }
   ],
   "source": [
    "xgb_results = pd.DataFrame({'Actual': y_test, 'Predicted': y_pred})\n",
    "xgb_results.head(10)"
   ]
  },
  {
   "cell_type": "markdown",
   "id": "77c35079",
   "metadata": {},
   "source": [
    "## Results"
   ]
  },
  {
   "cell_type": "markdown",
   "id": "478e9af2",
   "metadata": {},
   "source": [
    "# Results"
   ]
  },
  {
   "cell_type": "code",
   "execution_count": 49,
   "id": "056e1512",
   "metadata": {},
   "outputs": [
    {
     "data": {
      "image/png": "[encoded data removed]",
      "text/plain": [
       "<Figure size 720x288 with 1 Axes>"
      ]
     },
     "metadata": {
      "needs_background": "light"
     },
     "output_type": "display_data"
    }
   ],
   "source": [
    "results = {'Model': ['Linear Regression', 'Lasso Regression', 'Random Forest Regression', 'XGBoost Regression'],\n",
    "           'Train MSE': [268.89, 271.94, 14.41, 91.88],\n",
    "           'Train R2': [0.131, 0.121, 0.953, 0.703],\n",
    "           'Test MSE': [266.91, 270.03, 103.55, 159.33],\n",
    "           'Test R2': [0.126, 0.116, 0.661, 0.478]}\n",
    "\n",
    "df_results = pd.DataFrame(results)\n",
    "plt.figure(figsize=(10, 4))\n",
    "sns.heatmap(df_results.set_index('Model').T, annot=True, cmap='coolwarm', fmt='.2f', cbar=False)\n",
    "plt.title(\"Model Performance Comparison\")\n",
    "plt.show()"
   ]
  },
  {
   "cell_type": "code",
   "execution_count": null,
   "id": "37385565",
   "metadata": {},
   "outputs": [],
   "source": []
  }
 ],
 "metadata": {
  "kernelspec": {
   "display_name": "Python 3",
   "language": "python",
   "name": "python3"
  },
  "language_info": {
   "codemirror_mode": {
    "name": "ipython",
    "version": 3
   },
   "file_extension": ".py",
   "mimetype": "text/x-python",
   "name": "python",
   "nbconvert_exporter": "python",
   "pygments_lexer": "ipython3",
   "version": "3.8.8"
  }
 },
 "nbformat": 4,
 "nbformat_minor": 5
}
